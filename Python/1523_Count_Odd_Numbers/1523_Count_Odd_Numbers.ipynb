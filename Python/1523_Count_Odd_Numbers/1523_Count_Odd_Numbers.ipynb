{
 "cells": [
  {
   "cell_type": "code",
   "execution_count": 5,
   "metadata": {},
   "outputs": [],
   "source": [
    "class Solution:\n",
    "    def isOdd(self, n: int) -> bool:\n",
    "        return n % 2 == 1\n",
    "\n",
    "    def countOdds(self, low: int, high: int) -> int:\n",
    "        no_of_odds: int = 0\n",
    "        diff: int = high - low\n",
    "        if self.isOdd(low):\n",
    "            no_of_odds += 1\n",
    "        elif self.isOdd(high):\n",
    "            no_of_odds += 1\n",
    "        no_of_odds += diff // 2\n",
    "        return no_of_odds\n",
    "        "
   ]
  },
  {
   "cell_type": "code",
   "execution_count": 6,
   "metadata": {},
   "outputs": [
    {
     "name": "stderr",
     "output_type": "stream",
     "text": [
      "F.\n",
      "======================================================================\n",
      "FAIL: test_exampleTestCases_1__3__7__3_ (__main__.SolutionTest)\n",
      "----------------------------------------------------------------------\n",
      "Traceback (most recent call last):\n",
      "  File \"C:\\Users\\pdorm\\AppData\\Local\\Packages\\PythonSoftwareFoundation.Python.3.10_qbz5n2kfra8p0\\LocalCache\\local-packages\\Python310\\site-packages\\ddt.py\", line 220, in wrapper\n",
      "    return func(self, *args, **kwargs)\n",
      "  File \"C:\\Users\\pdorm\\AppData\\Local\\Temp\\ipykernel_19460\\2000182027.py\", line 12, in test_exampleTestCases\n",
      "    self.assertEqual(expected, self.sut.countOdds(inputLow, inputHigh))\n",
      "AssertionError: 3 != 4\n",
      "\n",
      "----------------------------------------------------------------------\n",
      "Ran 2 tests in 0.004s\n",
      "\n",
      "FAILED (failures=1)\n"
     ]
    },
    {
     "data": {
      "text/plain": [
       "<unittest.main.TestProgram at 0x23c76f61780>"
      ]
     },
     "execution_count": 6,
     "metadata": {},
     "output_type": "execute_result"
    }
   ],
   "source": [
    "import unittest\n",
    "from ddt import ddt, data, unpack\n",
    "\n",
    "@ddt\n",
    "class SolutionTest(unittest.TestCase):\n",
    "    def setUp(self) -> None:\n",
    "        self.sut = Solution()\n",
    "\n",
    "    @data((3,7,3),(8,10,1))\n",
    "    @unpack\n",
    "    def test_exampleTestCases(self, inputLow: int, inputHigh: int, expected: int):\n",
    "        self.assertEqual(expected, self.sut.countOdds(inputLow, inputHigh))\n",
    "\n",
    "    # @data((2, 2))\n",
    "    # @unpack\n",
    "    # def test_ownTestCases(self, input: int, expected: int):\n",
    "    #     self.assertEqual(expected, self.sut.nthUglyNumber(input))\n",
    "\n",
    "unittest.main(argv=[''], exit=False)"
   ]
  }
 ],
 "metadata": {
  "kernelspec": {
   "display_name": "Python 3.10.8 64-bit (microsoft store)",
   "language": "python",
   "name": "python3"
  },
  "language_info": {
   "codemirror_mode": {
    "name": "ipython",
    "version": 3
   },
   "file_extension": ".py",
   "mimetype": "text/x-python",
   "name": "python",
   "nbconvert_exporter": "python",
   "pygments_lexer": "ipython3",
   "version": "3.10.8"
  },
  "orig_nbformat": 4,
  "vscode": {
   "interpreter": {
    "hash": "2c55679caebe879c77960ca06f66966626498b8425322a0d29ef83fb2dc353a6"
   }
  }
 },
 "nbformat": 4,
 "nbformat_minor": 2
}
