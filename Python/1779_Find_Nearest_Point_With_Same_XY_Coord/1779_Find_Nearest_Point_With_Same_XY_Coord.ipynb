{
 "cells": [
  {
   "cell_type": "code",
   "execution_count": 5,
   "metadata": {},
   "outputs": [],
   "source": [
    "from typing import List\n",
    "\n",
    "class Solution:\n",
    "    def manhattanDistance(self, x1: int, y1: int, x2: int, y2: int) -> float:\n",
    "        return abs(x1 - x2) + abs(y1- y2)\n",
    "\n",
    "    def nearestValidPoint(self, x: int, y: int, points: List[List[int]]) -> int:\n",
    "        idx_of_valid_point: int = -1\n",
    "        distance_of_valid_point: int = 1e9\n",
    "        for idx, point in enumerate(points):\n",
    "            if point[0] == x or point[1] == y:\n",
    "                distance = self.manhattanDistance(x, y, point[0], point[1])\n",
    "                if  distance < distance_of_valid_point:\n",
    "                    distance_of_valid_point = distance\n",
    "                    idx_of_valid_point = idx \n",
    "        return idx_of_valid_point"
   ]
  },
  {
   "cell_type": "code",
   "execution_count": 6,
   "metadata": {},
   "outputs": [
    {
     "name": "stderr",
     "output_type": "stream",
     "text": [
      "...\n",
      "----------------------------------------------------------------------\n",
      "Ran 3 tests in 0.008s\n",
      "\n",
      "OK\n"
     ]
    },
    {
     "data": {
      "text/plain": [
       "<unittest.main.TestProgram at 0x276000529b0>"
      ]
     },
     "execution_count": 6,
     "metadata": {},
     "output_type": "execute_result"
    }
   ],
   "source": [
    "import unittest\n",
    "from typing import List\n",
    "from ddt import ddt, data, unpack\n",
    "\n",
    "@ddt\n",
    "class SolutionTest(unittest.TestCase):\n",
    "    def setUp(self) -> None:\n",
    "        self.sut = Solution()\n",
    "\n",
    "    @data((3, 4, [[1,2],[3,1],[2,4],[2,3],[4,4]], 2),\n",
    "    (3, 4, [[3,4]], 0),\n",
    "    (3, 4, [[2,3]], -1))\n",
    "    @unpack\n",
    "    def test_exampleTestCases(self, inX: int, inY: int, inPoints: List[int], expected: int):\n",
    "        self.assertEqual(expected, self.sut.nearestValidPoint(inX, inY, inPoints))\n",
    "\n",
    "unittest.main(argv=[''], exit=False)"
   ]
  }
 ],
 "metadata": {
  "kernelspec": {
   "display_name": "Python 3.10.8 64-bit (microsoft store)",
   "language": "python",
   "name": "python3"
  },
  "language_info": {
   "codemirror_mode": {
    "name": "ipython",
    "version": 3
   },
   "file_extension": ".py",
   "mimetype": "text/x-python",
   "name": "python",
   "nbconvert_exporter": "python",
   "pygments_lexer": "ipython3",
   "version": "3.10.8"
  },
  "orig_nbformat": 4,
  "vscode": {
   "interpreter": {
    "hash": "2c55679caebe879c77960ca06f66966626498b8425322a0d29ef83fb2dc353a6"
   }
  }
 },
 "nbformat": 4,
 "nbformat_minor": 2
}
