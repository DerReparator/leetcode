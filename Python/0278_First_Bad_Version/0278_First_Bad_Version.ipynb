{
 "cells": [
  {
   "cell_type": "code",
   "execution_count": 35,
   "metadata": {},
   "outputs": [],
   "source": [
    "# The isBadVersion API is already defined for you.\n",
    "# def isBadVersion(version: int) -> bool:\n",
    "\n",
    "class Solution:\n",
    "    def __init__(self, badVersion: int):\n",
    "        self.badVersion = badVersion\n",
    "\n",
    "    def isBadVersion(self, version: int) -> bool:\n",
    "        return version >= self.badVersion\n",
    "\n",
    "    def firstBadVersion(self, n: int) -> int:\n",
    "        if self.isBadVersion(n):\n",
    "            if not self.isBadVersion(n - 1):\n",
    "                return n\n",
    "            else:\n",
    "                return self.firstBadVersion(n // 2)\n",
    "        else:\n",
    "            return self.firstBadVersion(n + max(1, n // 2))\n",
    "        "
   ]
  },
  {
   "cell_type": "code",
   "execution_count": 36,
   "metadata": {},
   "outputs": [
    {
     "name": "stderr",
     "output_type": "stream",
     "text": [
      ".\n",
      "----------------------------------------------------------------------\n",
      "Ran 1 test in 0.004s\n",
      "\n",
      "OK\n"
     ]
    },
    {
     "data": {
      "text/plain": [
       "<unittest.main.TestProgram at 0x1f4539ffdc0>"
      ]
     },
     "execution_count": 36,
     "metadata": {},
     "output_type": "execute_result"
    }
   ],
   "source": [
    "import unittest\n",
    "\n",
    "class SolutionTest(unittest.TestCase):\n",
    "    def test_exampleTestCase1(self):\n",
    "        sut = Solution(4) # This is the first bad version\n",
    "        self.assertEqual(4, sut.firstBadVersion(5))\n",
    "\n",
    "    # def test_exampleTestCase2(self):\n",
    "    #     sut: Solution = Solution(1) # This is the first bad version\n",
    "    #     self.assertEqual(1, sut.firstBadVersion(1))\n",
    "\n",
    "unittest.main(argv=[''], exit=False)"
   ]
  }
 ],
 "metadata": {
  "kernelspec": {
   "display_name": "Python 3.10.8 64-bit (microsoft store)",
   "language": "python",
   "name": "python3"
  },
  "language_info": {
   "codemirror_mode": {
    "name": "ipython",
    "version": 3
   },
   "file_extension": ".py",
   "mimetype": "text/x-python",
   "name": "python",
   "nbconvert_exporter": "python",
   "pygments_lexer": "ipython3",
   "version": "3.10.8"
  },
  "orig_nbformat": 4,
  "vscode": {
   "interpreter": {
    "hash": "2c55679caebe879c77960ca06f66966626498b8425322a0d29ef83fb2dc353a6"
   }
  }
 },
 "nbformat": 4,
 "nbformat_minor": 2
}
