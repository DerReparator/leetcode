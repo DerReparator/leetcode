{
 "cells": [
  {
   "cell_type": "code",
   "execution_count": 8,
   "metadata": {},
   "outputs": [],
   "source": [
    "# The isBadVersion API is already defined for you.\n",
    "# def isBadVersion(version: int) -> bool:\n",
    "import math\n",
    "\n",
    "class Solution:\n",
    "    def __init__(self, badVersion: int):\n",
    "        self.badVersion = badVersion\n",
    "        self.jump = -1\n",
    "\n",
    "    def isBadVersion(self, version: int) -> bool:\n",
    "        return version >= self.badVersion\n",
    "    \n",
    "    def firstBadVersion(self, n: int) -> int:\n",
    "        return self.binarySearch(n, 1, n)\n",
    "\n",
    "    def binarySearch(self, maxN: int, start: int, end: int) -> int:\n",
    "        middle = (start + end) // 2\n",
    "        if self.isBadVersion(middle):\n",
    "            if not self.isBadVersion(middle - 1):\n",
    "                return middle\n",
    "            else:\n",
    "                return self.binarySearch(maxN, start, middle - 1)\n",
    "        else:\n",
    "            return self.binarySearch(maxN, middle + 1, end)"
   ]
  },
  {
   "cell_type": "code",
   "execution_count": 9,
   "metadata": {},
   "outputs": [
    {
     "name": "stderr",
     "output_type": "stream",
     "text": [
      ".......\n",
      "----------------------------------------------------------------------\n",
      "Ran 7 tests in 0.003s\n",
      "\n",
      "OK\n"
     ]
    },
    {
     "data": {
      "text/plain": [
       "<unittest.main.TestProgram at 0x202d5c913c0>"
      ]
     },
     "execution_count": 9,
     "metadata": {},
     "output_type": "execute_result"
    }
   ],
   "source": [
    "import unittest\n",
    "from ddt import ddt, data, unpack\n",
    "\n",
    "@ddt\n",
    "class SolutionTest(unittest.TestCase):\n",
    "    \n",
    "    @data((11,8),(31,28),(5,4),(1,1),(6,4),(5000000,2500001),(2126753390, 1702766719))\n",
    "    @unpack\n",
    "    def test_exampleTestCase(self, inputN: int, inputBadVersion: int):\n",
    "        sut = Solution(inputBadVersion) # This is the first bad version\n",
    "        self.assertEqual(inputBadVersion, sut.firstBadVersion(inputN))\n",
    "\n",
    "unittest.main(argv=[''], exit=False)"
   ]
  }
 ],
 "metadata": {
  "kernelspec": {
   "display_name": "Python 3.10.0 64-bit",
   "language": "python",
   "name": "python3"
  },
  "language_info": {
   "codemirror_mode": {
    "name": "ipython",
    "version": 3
   },
   "file_extension": ".py",
   "mimetype": "text/x-python",
   "name": "python",
   "nbconvert_exporter": "python",
   "pygments_lexer": "ipython3",
   "version": "3.10.0"
  },
  "orig_nbformat": 4,
  "vscode": {
   "interpreter": {
    "hash": "369f2c481f4da34e4445cda3fffd2e751bd1c4d706f27375911949ba6bb62e1c"
   }
  }
 },
 "nbformat": 4,
 "nbformat_minor": 2
}
