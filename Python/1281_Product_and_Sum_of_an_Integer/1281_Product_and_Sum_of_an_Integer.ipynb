{
 "cells": [
  {
   "cell_type": "code",
   "execution_count": 3,
   "metadata": {},
   "outputs": [],
   "source": [
    "class Solution:\n",
    "    def subtractProductAndSum(self, n: int) -> int:\n",
    "        n_as_str: str = str(n)\n",
    "        sum_of_digits: int = 0\n",
    "        prod_of_digits: int = 1\n",
    "        for digit in n_as_str:\n",
    "            sum_of_digits += int(digit)\n",
    "            prod_of_digits *= int(digit)\n",
    "        return prod_of_digits - sum_of_digits"
   ]
  },
  {
   "cell_type": "code",
   "execution_count": 4,
   "metadata": {},
   "outputs": [
    {
     "name": "stderr",
     "output_type": "stream",
     "text": [
      "..\n",
      "----------------------------------------------------------------------\n",
      "Ran 2 tests in 0.007s\n",
      "\n",
      "OK\n"
     ]
    },
    {
     "data": {
      "text/plain": [
       "<unittest.main.TestProgram at 0x20d3c363a00>"
      ]
     },
     "execution_count": 4,
     "metadata": {},
     "output_type": "execute_result"
    }
   ],
   "source": [
    "import unittest\n",
    "from ddt import ddt, data, unpack\n",
    "\n",
    "@ddt\n",
    "class SolutionTest(unittest.TestCase):\n",
    "    def setUp(self) -> None:\n",
    "        self.sut = Solution()\n",
    "\n",
    "    @data((234, 15),\n",
    "    (4421, 21))\n",
    "    @unpack\n",
    "    def test_exampleTestCases(self, input: int, expected: int):\n",
    "        self.assertEqual(expected, self.sut.subtractProductAndSum(input))\n",
    "\n",
    "unittest.main(argv=[''], exit=False)"
   ]
  }
 ],
 "metadata": {
  "kernelspec": {
   "display_name": "Python 3.10.8 64-bit (microsoft store)",
   "language": "python",
   "name": "python3"
  },
  "language_info": {
   "codemirror_mode": {
    "name": "ipython",
    "version": 3
   },
   "file_extension": ".py",
   "mimetype": "text/x-python",
   "name": "python",
   "nbconvert_exporter": "python",
   "pygments_lexer": "ipython3",
   "version": "3.10.8"
  },
  "orig_nbformat": 4,
  "vscode": {
   "interpreter": {
    "hash": "2c55679caebe879c77960ca06f66966626498b8425322a0d29ef83fb2dc353a6"
   }
  }
 },
 "nbformat": 4,
 "nbformat_minor": 2
}
