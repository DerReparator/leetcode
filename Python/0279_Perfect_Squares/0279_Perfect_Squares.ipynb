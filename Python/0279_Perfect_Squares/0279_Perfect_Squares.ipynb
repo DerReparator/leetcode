{
 "cells": [
  {
   "cell_type": "markdown",
   "metadata": {},
   "source": [
    "Pre-Compute Perfect Squares"
   ]
  },
  {
   "cell_type": "code",
   "execution_count": 7,
   "metadata": {},
   "outputs": [],
   "source": [
    "import math\n",
    "\n",
    "MAX_NUM: int = 10e4\n",
    "PERFECT_SQUARES = [i ** 2 for i in range(math.ceil(math.sqrt(MAX_NUM)))]"
   ]
  },
  {
   "cell_type": "code",
   "execution_count": 8,
   "metadata": {},
   "outputs": [],
   "source": [
    "import math\n",
    "\n",
    "class Solution:\n",
    "    def numSquares(self, n: int) -> int:\n",
    "        bisherigesMin: int = MAX_NUM\n",
    "        for i in range(math.floor(math.sqrt(n)), 0, -1):\n",
    "            if n - PERFECT_SQUARES[i] == 0:\n",
    "                return 1\n",
    "            else:\n",
    "                aktuellerZweig = 1 + self.numSquares(n - PERFECT_SQUARES[i])\n",
    "                bisherigesMin = min(bisherigesMin, aktuellerZweig)\n",
    "        return bisherigesMin"
   ]
  },
  {
   "cell_type": "code",
   "execution_count": 9,
   "metadata": {},
   "outputs": [
    {
     "name": "stderr",
     "output_type": "stream",
     "text": [
      "....F\n",
      "======================================================================\n",
      "FAIL: test_exampleTestCases_5__43__4_ (__main__.SolutionTest)\n",
      "----------------------------------------------------------------------\n",
      "Traceback (most recent call last):\n",
      "  File \"c:\\Python310\\lib\\site-packages\\ddt.py\", line 220, in wrapper\n",
      "    return func(self, *args, **kwargs)\n",
      "  File \"C:\\Users\\Philipp\\AppData\\Local\\Temp\\ipykernel_13104\\2996726374.py\", line 12, in test_exampleTestCases\n",
      "    self.assertEqual(expected, self.sut.numSquares(input))\n",
      "AssertionError: 4 != 3\n",
      "\n",
      "----------------------------------------------------------------------\n",
      "Ran 5 tests in 0.159s\n",
      "\n",
      "FAILED (failures=1)\n"
     ]
    },
    {
     "data": {
      "text/plain": [
       "<unittest.main.TestProgram at 0x19bd7243b20>"
      ]
     },
     "execution_count": 9,
     "metadata": {},
     "output_type": "execute_result"
    }
   ],
   "source": [
    "import unittest\n",
    "from ddt import ddt, data, unpack\n",
    "\n",
    "@ddt\n",
    "class SolutionTest(unittest.TestCase):\n",
    "    def setUp(self) -> None:\n",
    "        self.sut = Solution()\n",
    "\n",
    "    @data((12,3),(13,2), (1,1), (2,2), (43,3))\n",
    "    @unpack\n",
    "    def test_exampleTestCases(self, input: int, expected: int):\n",
    "        self.assertEqual(expected, self.sut.numSquares(input))\n",
    "\n",
    "unittest.main(argv=[''], exit=False)"
   ]
  }
 ],
 "metadata": {
  "kernelspec": {
   "display_name": "Python 3.10.0 64-bit",
   "language": "python",
   "name": "python3"
  },
  "language_info": {
   "codemirror_mode": {
    "name": "ipython",
    "version": 3
   },
   "file_extension": ".py",
   "mimetype": "text/x-python",
   "name": "python",
   "nbconvert_exporter": "python",
   "pygments_lexer": "ipython3",
   "version": "3.10.0"
  },
  "orig_nbformat": 4,
  "vscode": {
   "interpreter": {
    "hash": "369f2c481f4da34e4445cda3fffd2e751bd1c4d706f27375911949ba6bb62e1c"
   }
  }
 },
 "nbformat": 4,
 "nbformat_minor": 2
}
